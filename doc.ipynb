{
 "cells": [
  {
   "cell_type": "code",
   "execution_count": 1,
   "id": "7bf5099c-c210-4607-8316-69bdf222b79c",
   "metadata": {},
   "outputs": [],
   "source": [
    "import numpy as np\n",
    "import pandas as pd\n",
    "import geopandas as gpd\n",
    "import fiona"
   ]
  },
  {
   "cell_type": "code",
   "execution_count": 2,
   "id": "fbc63e03-6ae7-4a60-a67a-5ef68849996c",
   "metadata": {},
   "outputs": [
    {
     "name": "stdout",
     "output_type": "stream",
     "text": [
      "0.14.4\n",
      "1.9.6\n"
     ]
    }
   ],
   "source": [
    "print(gpd.__version__)\n",
    "print(fiona.__version__)"
   ]
  },
  {
   "cell_type": "markdown",
   "id": "c662948d-4d29-415f-88d7-d92f0c4f1ab2",
   "metadata": {},
   "source": [
    " - サンプルデータ：ポイントデータ"
   ]
  },
  {
   "cell_type": "code",
   "execution_count": 3,
   "id": "d7fce76e-6857-4f9d-82f3-637375fd58c3",
   "metadata": {},
   "outputs": [],
   "source": [
    "gdf1 = gpd.read_file('sampledata/83031000Tsurumi.geojson')"
   ]
  },
  {
   "cell_type": "code",
   "execution_count": 5,
   "id": "6fe6828e-f591-47a9-a89e-4da96a5afc4e",
   "metadata": {},
   "outputs": [
    {
     "data": {
      "text/html": [
       "<div>\n",
       "<style scoped>\n",
       "    .dataframe tbody tr th:only-of-type {\n",
       "        vertical-align: middle;\n",
       "    }\n",
       "\n",
       "    .dataframe tbody tr th {\n",
       "        vertical-align: top;\n",
       "    }\n",
       "\n",
       "    .dataframe thead th {\n",
       "        text-align: right;\n",
       "    }\n",
       "</style>\n",
       "<table border=\"1\" class=\"dataframe\">\n",
       "  <thead>\n",
       "    <tr style=\"text-align: right;\">\n",
       "      <th></th>\n",
       "      <th>観測項目</th>\n",
       "      <th>水系名</th>\n",
       "      <th>河川名</th>\n",
       "      <th>観測所名</th>\n",
       "      <th>所在地</th>\n",
       "      <th>観測所記号</th>\n",
       "      <th>lon</th>\n",
       "      <th>lat</th>\n",
       "      <th>最新の零点高</th>\n",
       "      <th>geometry</th>\n",
       "    </tr>\n",
       "  </thead>\n",
       "  <tbody>\n",
       "    <tr>\n",
       "      <th>0</th>\n",
       "      <td>水位流量</td>\n",
       "      <td>鶴見川</td>\n",
       "      <td>鶴見川</td>\n",
       "      <td>鶴見川河口</td>\n",
       "      <td>神奈川県横浜市鶴見区末広町</td>\n",
       "      <td>303061283310010</td>\n",
       "      <td>139.684167</td>\n",
       "      <td>35.479444</td>\n",
       "      <td>T.P. 0.000m</td>\n",
       "      <td>POINT (139.68417 35.47944)</td>\n",
       "    </tr>\n",
       "    <tr>\n",
       "      <th>1</th>\n",
       "      <td>水位流量</td>\n",
       "      <td>鶴見川</td>\n",
       "      <td>鶴見川</td>\n",
       "      <td>芦穂橋</td>\n",
       "      <td>神奈川県横浜市鶴見区鶴見中央</td>\n",
       "      <td>303061283310020</td>\n",
       "      <td>139.685556</td>\n",
       "      <td>35.506111</td>\n",
       "      <td>T.P. 0.000m</td>\n",
       "      <td>POINT (139.68556 35.50611)</td>\n",
       "    </tr>\n",
       "    <tr>\n",
       "      <th>2</th>\n",
       "      <td>水位流量</td>\n",
       "      <td>鶴見川</td>\n",
       "      <td>鶴見川</td>\n",
       "      <td>末吉橋</td>\n",
       "      <td>神奈川県川崎市幸区小倉</td>\n",
       "      <td>303061283310030</td>\n",
       "      <td>139.666111</td>\n",
       "      <td>35.534444</td>\n",
       "      <td>T.P. 0.000m</td>\n",
       "      <td>POINT (139.66611 35.53444)</td>\n",
       "    </tr>\n",
       "    <tr>\n",
       "      <th>3</th>\n",
       "      <td>水位流量</td>\n",
       "      <td>鶴見川</td>\n",
       "      <td>鶴見川</td>\n",
       "      <td>綱島</td>\n",
       "      <td>神奈川県横浜市港北区綱島東</td>\n",
       "      <td>303061283310040</td>\n",
       "      <td>139.635556</td>\n",
       "      <td>35.534444</td>\n",
       "      <td>T.P. 0.000m</td>\n",
       "      <td>POINT (139.63556 35.53444)</td>\n",
       "    </tr>\n",
       "    <tr>\n",
       "      <th>4</th>\n",
       "      <td>水位流量</td>\n",
       "      <td>鶴見川</td>\n",
       "      <td>鶴見川</td>\n",
       "      <td>太尾</td>\n",
       "      <td>神奈川県横浜市港北区太尾町</td>\n",
       "      <td>303061283310050</td>\n",
       "      <td>139.618056</td>\n",
       "      <td>35.531389</td>\n",
       "      <td>T.P. 0.000m</td>\n",
       "      <td>POINT (139.61806 35.53139)</td>\n",
       "    </tr>\n",
       "  </tbody>\n",
       "</table>\n",
       "</div>"
      ],
      "text/plain": [
       "   観測項目  水系名  河川名   観測所名             所在地            観測所記号         lon  \\\n",
       "0  水位流量  鶴見川  鶴見川  鶴見川河口   神奈川県横浜市鶴見区末広町  303061283310010  139.684167   \n",
       "1  水位流量  鶴見川  鶴見川    芦穂橋  神奈川県横浜市鶴見区鶴見中央  303061283310020  139.685556   \n",
       "2  水位流量  鶴見川  鶴見川    末吉橋     神奈川県川崎市幸区小倉  303061283310030  139.666111   \n",
       "3  水位流量  鶴見川  鶴見川     綱島   神奈川県横浜市港北区綱島東  303061283310040  139.635556   \n",
       "4  水位流量  鶴見川  鶴見川     太尾   神奈川県横浜市港北区太尾町  303061283310050  139.618056   \n",
       "\n",
       "         lat       最新の零点高                    geometry  \n",
       "0  35.479444  T.P. 0.000m  POINT (139.68417 35.47944)  \n",
       "1  35.506111  T.P. 0.000m  POINT (139.68556 35.50611)  \n",
       "2  35.534444  T.P. 0.000m  POINT (139.66611 35.53444)  \n",
       "3  35.534444  T.P. 0.000m  POINT (139.63556 35.53444)  \n",
       "4  35.531389  T.P. 0.000m  POINT (139.61806 35.53139)  "
      ]
     },
     "execution_count": 5,
     "metadata": {},
     "output_type": "execute_result"
    }
   ],
   "source": [
    "gdf1.head()"
   ]
  },
  {
   "cell_type": "markdown",
   "id": "cedb19a0-7055-429a-bc03-456841cc9790",
   "metadata": {},
   "source": [
    "##  write\n",
    "\n",
    " - layer名を指定し、任意のGeoPackageファイルに書き込む。\n",
    " - layer名はユニークであること。存在する場合は上書きされる。\n",
    " - GeoPackageファイル名は存在する場合は上書き、無い場合は作成される。"
   ]
  },
  {
   "cell_type": "code",
   "execution_count": 6,
   "id": "e2b99ad1-81f3-4f00-8ab3-8c2507fa8928",
   "metadata": {},
   "outputs": [],
   "source": [
    "out = gdf1.to_file(\"tmp.gpkg\", layer='Tsurumi', driver=\"GPKG\")"
   ]
  },
  {
   "cell_type": "markdown",
   "id": "58899234-03e0-4a92-8386-39d89456dc79",
   "metadata": {},
   "source": [
    " - 同様に追加で1データ追記しておく。"
   ]
  },
  {
   "cell_type": "code",
   "execution_count": 7,
   "id": "13c1d32c-aed0-4807-8ee8-0e996ed3412b",
   "metadata": {},
   "outputs": [],
   "source": [
    "gdf2 = gpd.read_file('sampledata/83032000Sagami.geojson')\n",
    "out = gdf1.to_file(\"tmp.gpkg\", layer='Sagami', driver=\"GPKG\")\n",
    "del out"
   ]
  },
  {
   "cell_type": "markdown",
   "id": "46742ace-94a0-4b56-97a0-06f5be2c7378",
   "metadata": {},
   "source": [
    "## Read"
   ]
  },
  {
   "cell_type": "markdown",
   "id": "a9ab0bed-1b35-4051-bccd-f515d755840c",
   "metadata": {},
   "source": [
    "### layer名リストを取得\n",
    "\n",
    "この作業だけはGeopandasだけでは無理でFionaが必要。"
   ]
  },
  {
   "cell_type": "code",
   "execution_count": 8,
   "id": "bedfa77d-00fe-4b44-8ba9-4cafd86df8c2",
   "metadata": {},
   "outputs": [
    {
     "name": "stdout",
     "output_type": "stream",
     "text": [
      "['Tsurumi', 'Sagami']\n"
     ]
    }
   ],
   "source": [
    "lics = fiona.listlayers('tmp.gpkg')\n",
    "print(lics)"
   ]
  },
  {
   "cell_type": "markdown",
   "id": "e2675d18-f0a3-4cde-855e-9340453c95ff",
   "metadata": {},
   "source": [
    "### レイヤー名を指定して読み込み"
   ]
  },
  {
   "cell_type": "code",
   "execution_count": 9,
   "id": "47846f84-94ca-4460-b2f9-1bb84b37baae",
   "metadata": {},
   "outputs": [],
   "source": [
    "gdf = gpd.read_file('tmp.gpkg', layer='Tsurumi')"
   ]
  },
  {
   "cell_type": "code",
   "execution_count": 10,
   "id": "62ec3c3f-9c70-4e75-b6b2-194307b41e8c",
   "metadata": {},
   "outputs": [
    {
     "data": {
      "text/html": [
       "<div>\n",
       "<style scoped>\n",
       "    .dataframe tbody tr th:only-of-type {\n",
       "        vertical-align: middle;\n",
       "    }\n",
       "\n",
       "    .dataframe tbody tr th {\n",
       "        vertical-align: top;\n",
       "    }\n",
       "\n",
       "    .dataframe thead th {\n",
       "        text-align: right;\n",
       "    }\n",
       "</style>\n",
       "<table border=\"1\" class=\"dataframe\">\n",
       "  <thead>\n",
       "    <tr style=\"text-align: right;\">\n",
       "      <th></th>\n",
       "      <th>観測項目</th>\n",
       "      <th>水系名</th>\n",
       "      <th>河川名</th>\n",
       "      <th>観測所名</th>\n",
       "      <th>所在地</th>\n",
       "      <th>観測所記号</th>\n",
       "      <th>lon</th>\n",
       "      <th>lat</th>\n",
       "      <th>最新の零点高</th>\n",
       "      <th>geometry</th>\n",
       "    </tr>\n",
       "  </thead>\n",
       "  <tbody>\n",
       "    <tr>\n",
       "      <th>0</th>\n",
       "      <td>水位流量</td>\n",
       "      <td>鶴見川</td>\n",
       "      <td>鶴見川</td>\n",
       "      <td>鶴見川河口</td>\n",
       "      <td>神奈川県横浜市鶴見区末広町</td>\n",
       "      <td>303061283310010</td>\n",
       "      <td>139.684167</td>\n",
       "      <td>35.479444</td>\n",
       "      <td>T.P. 0.000m</td>\n",
       "      <td>POINT (139.68417 35.47944)</td>\n",
       "    </tr>\n",
       "    <tr>\n",
       "      <th>1</th>\n",
       "      <td>水位流量</td>\n",
       "      <td>鶴見川</td>\n",
       "      <td>鶴見川</td>\n",
       "      <td>芦穂橋</td>\n",
       "      <td>神奈川県横浜市鶴見区鶴見中央</td>\n",
       "      <td>303061283310020</td>\n",
       "      <td>139.685556</td>\n",
       "      <td>35.506111</td>\n",
       "      <td>T.P. 0.000m</td>\n",
       "      <td>POINT (139.68556 35.50611)</td>\n",
       "    </tr>\n",
       "    <tr>\n",
       "      <th>2</th>\n",
       "      <td>水位流量</td>\n",
       "      <td>鶴見川</td>\n",
       "      <td>鶴見川</td>\n",
       "      <td>末吉橋</td>\n",
       "      <td>神奈川県川崎市幸区小倉</td>\n",
       "      <td>303061283310030</td>\n",
       "      <td>139.666111</td>\n",
       "      <td>35.534444</td>\n",
       "      <td>T.P. 0.000m</td>\n",
       "      <td>POINT (139.66611 35.53444)</td>\n",
       "    </tr>\n",
       "    <tr>\n",
       "      <th>3</th>\n",
       "      <td>水位流量</td>\n",
       "      <td>鶴見川</td>\n",
       "      <td>鶴見川</td>\n",
       "      <td>綱島</td>\n",
       "      <td>神奈川県横浜市港北区綱島東</td>\n",
       "      <td>303061283310040</td>\n",
       "      <td>139.635556</td>\n",
       "      <td>35.534444</td>\n",
       "      <td>T.P. 0.000m</td>\n",
       "      <td>POINT (139.63556 35.53444)</td>\n",
       "    </tr>\n",
       "    <tr>\n",
       "      <th>4</th>\n",
       "      <td>水位流量</td>\n",
       "      <td>鶴見川</td>\n",
       "      <td>鶴見川</td>\n",
       "      <td>太尾</td>\n",
       "      <td>神奈川県横浜市港北区太尾町</td>\n",
       "      <td>303061283310050</td>\n",
       "      <td>139.618056</td>\n",
       "      <td>35.531389</td>\n",
       "      <td>T.P. 0.000m</td>\n",
       "      <td>POINT (139.61806 35.53139)</td>\n",
       "    </tr>\n",
       "  </tbody>\n",
       "</table>\n",
       "</div>"
      ],
      "text/plain": [
       "   観測項目  水系名  河川名   観測所名             所在地            観測所記号         lon  \\\n",
       "0  水位流量  鶴見川  鶴見川  鶴見川河口   神奈川県横浜市鶴見区末広町  303061283310010  139.684167   \n",
       "1  水位流量  鶴見川  鶴見川    芦穂橋  神奈川県横浜市鶴見区鶴見中央  303061283310020  139.685556   \n",
       "2  水位流量  鶴見川  鶴見川    末吉橋     神奈川県川崎市幸区小倉  303061283310030  139.666111   \n",
       "3  水位流量  鶴見川  鶴見川     綱島   神奈川県横浜市港北区綱島東  303061283310040  139.635556   \n",
       "4  水位流量  鶴見川  鶴見川     太尾   神奈川県横浜市港北区太尾町  303061283310050  139.618056   \n",
       "\n",
       "         lat       最新の零点高                    geometry  \n",
       "0  35.479444  T.P. 0.000m  POINT (139.68417 35.47944)  \n",
       "1  35.506111  T.P. 0.000m  POINT (139.68556 35.50611)  \n",
       "2  35.534444  T.P. 0.000m  POINT (139.66611 35.53444)  \n",
       "3  35.534444  T.P. 0.000m  POINT (139.63556 35.53444)  \n",
       "4  35.531389  T.P. 0.000m  POINT (139.61806 35.53139)  "
      ]
     },
     "execution_count": 10,
     "metadata": {},
     "output_type": "execute_result"
    }
   ],
   "source": [
    "gdf.head()"
   ]
  },
  {
   "cell_type": "markdown",
   "id": "91644fa0-7164-4cb5-bc2f-f7ef78355f5e",
   "metadata": {},
   "source": [
    "### 応用編：zip形式のGeoPackageファイルから直接読み込み\n",
    "\n",
    "GeoPackageはファイルサイズが大きくなりがちなのでzip形式にすることも多いですが、Fiona, GeoPandasでは解凍なしで直接読み込み可能です。"
   ]
  },
  {
   "cell_type": "code",
   "execution_count": 11,
   "id": "b728b7d1-9938-4880-84d2-aa7704d9a26a",
   "metadata": {},
   "outputs": [
    {
     "name": "stdout",
     "output_type": "stream",
     "text": [
      "['Tsurumi', 'Sagami']\n"
     ]
    }
   ],
   "source": [
    "lics = fiona.listlayers('zip://tmp.zip')\n",
    "print(lics)"
   ]
  },
  {
   "cell_type": "code",
   "execution_count": 12,
   "id": "8db7d7a6-0507-4130-a989-c032cc68ca97",
   "metadata": {},
   "outputs": [],
   "source": [
    "gdf = gpd.read_file('zip://tmp.zip', layer='Tsurumi')"
   ]
  }
 ],
 "metadata": {
  "kernelspec": {
   "display_name": "Python 3 (ipykernel)",
   "language": "python",
   "name": "python3"
  },
  "language_info": {
   "codemirror_mode": {
    "name": "ipython",
    "version": 3
   },
   "file_extension": ".py",
   "mimetype": "text/x-python",
   "name": "python",
   "nbconvert_exporter": "python",
   "pygments_lexer": "ipython3",
   "version": "3.12.3"
  }
 },
 "nbformat": 4,
 "nbformat_minor": 5
}
